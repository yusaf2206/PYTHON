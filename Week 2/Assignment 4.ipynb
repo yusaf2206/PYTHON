{
 "cells": [
  {
   "cell_type": "markdown",
   "id": "72269537",
   "metadata": {},
   "source": [
    "# Write a program to convert Degree Celsius to Kelvin And Farenhite"
   ]
  },
  {
   "cell_type": "code",
   "execution_count": 1,
   "id": "31b4f17a",
   "metadata": {},
   "outputs": [
    {
     "name": "stdout",
     "output_type": "stream",
     "text": [
      "Enter the temperature in degree celcius0\n"
     ]
    }
   ],
   "source": [
    "temp = float(input('Enter the temperature in degree celcius '))"
   ]
  },
  {
   "cell_type": "code",
   "execution_count": 8,
   "id": "a689d54b",
   "metadata": {},
   "outputs": [
    {
     "name": "stdout",
     "output_type": "stream",
     "text": [
      "Converted temperature in Kelvin and Farenhite is  (273.15, 32.0)\n",
      "<class 'tuple'>\n"
     ]
    }
   ],
   "source": [
    "def degree_celcius_to_kelvin_and_farenhite(x):\n",
    "    tempKelvin = x + 273.15\n",
    "    tempFarenhite = (x*1.8)+32\n",
    "    return tempKelvin, tempFarenhite\n",
    "\n",
    "result = degree_celcius_to_kelvin_and_farenhite(temp)\n",
    "print('Converted temperature in Kelvin and Farenhite is ',result)    "
   ]
  },
  {
   "cell_type": "code",
   "execution_count": null,
   "id": "22f513eb",
   "metadata": {},
   "outputs": [],
   "source": []
  }
 ],
 "metadata": {
  "kernelspec": {
   "display_name": "Python 3 (ipykernel)",
   "language": "python",
   "name": "python3"
  },
  "language_info": {
   "codemirror_mode": {
    "name": "ipython",
    "version": 3
   },
   "file_extension": ".py",
   "mimetype": "text/x-python",
   "name": "python",
   "nbconvert_exporter": "python",
   "pygments_lexer": "ipython3",
   "version": "3.9.12"
  }
 },
 "nbformat": 4,
 "nbformat_minor": 5
}
