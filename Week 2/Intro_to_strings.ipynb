{
 "cells": [
  {
   "cell_type": "code",
   "execution_count": 1,
   "id": "abf1899e",
   "metadata": {},
   "outputs": [],
   "source": [
    "name1 = 'Yusuf'\n",
    "name2  = 'Sadaf'"
   ]
  },
  {
   "cell_type": "code",
   "execution_count": 2,
   "id": "382bf152",
   "metadata": {},
   "outputs": [
    {
     "data": {
      "text/plain": [
       "'Yusuf Sadaf'"
      ]
     },
     "execution_count": 2,
     "metadata": {},
     "output_type": "execute_result"
    }
   ],
   "source": [
    "text=name1 + ' ' + name2\n",
    "text"
   ]
  },
  {
   "cell_type": "code",
   "execution_count": 3,
   "id": "ca448d16",
   "metadata": {},
   "outputs": [
    {
     "data": {
      "text/plain": [
       "'YusufSadaf'"
      ]
     },
     "execution_count": 3,
     "metadata": {},
     "output_type": "execute_result"
    }
   ],
   "source": [
    "name1 + name2"
   ]
  },
  {
   "cell_type": "code",
   "execution_count": 4,
   "id": "a8077d85",
   "metadata": {},
   "outputs": [
    {
     "data": {
      "text/plain": [
       "'SadafYusuf'"
      ]
     },
     "execution_count": 4,
     "metadata": {},
     "output_type": "execute_result"
    }
   ],
   "source": [
    "name2+name1"
   ]
  },
  {
   "cell_type": "code",
   "execution_count": 5,
   "id": "75a644de",
   "metadata": {},
   "outputs": [
    {
     "data": {
      "text/plain": [
       "'YS'"
      ]
     },
     "execution_count": 5,
     "metadata": {},
     "output_type": "execute_result"
    }
   ],
   "source": [
    "name1[0]+name2[0]"
   ]
  },
  {
   "cell_type": "code",
   "execution_count": 6,
   "id": "f5b406f5",
   "metadata": {},
   "outputs": [],
   "source": [
    "combine=name1+name2"
   ]
  },
  {
   "cell_type": "code",
   "execution_count": 7,
   "id": "2eff0230",
   "metadata": {},
   "outputs": [
    {
     "data": {
      "text/plain": [
       "'YusufSadaf'"
      ]
     },
     "execution_count": 7,
     "metadata": {},
     "output_type": "execute_result"
    }
   ],
   "source": [
    "combine"
   ]
  },
  {
   "cell_type": "code",
   "execution_count": 8,
   "id": "25843f8c",
   "metadata": {},
   "outputs": [
    {
     "data": {
      "text/plain": [
       "10"
      ]
     },
     "execution_count": 8,
     "metadata": {},
     "output_type": "execute_result"
    }
   ],
   "source": [
    "len(combine)"
   ]
  },
  {
   "cell_type": "code",
   "execution_count": 13,
   "id": "becc2470",
   "metadata": {},
   "outputs": [
    {
     "name": "stdout",
     "output_type": "stream",
     "text": [
      "YusafYusafYusafYusafYusafYusafYusafYusafYusafYusaf\n"
     ]
    }
   ],
   "source": [
    "print((combine[0:3]+combine[-2:])*10)"
   ]
  },
  {
   "cell_type": "code",
   "execution_count": 10,
   "id": "fa655a73",
   "metadata": {},
   "outputs": [
    {
     "data": {
      "text/plain": [
       "'Yusaf'"
      ]
     },
     "execution_count": 10,
     "metadata": {},
     "output_type": "execute_result"
    }
   ],
   "source": [
    "combine[0:3]+combine[-2:]"
   ]
  }
 ],
 "metadata": {
  "kernelspec": {
   "display_name": "Python 3 (ipykernel)",
   "language": "python",
   "name": "python3"
  },
  "language_info": {
   "codemirror_mode": {
    "name": "ipython",
    "version": 3
   },
   "file_extension": ".py",
   "mimetype": "text/x-python",
   "name": "python",
   "nbconvert_exporter": "python",
   "pygments_lexer": "ipython3",
   "version": "3.9.12"
  }
 },
 "nbformat": 4,
 "nbformat_minor": 5
}
