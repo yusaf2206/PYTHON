{
 "cells": [
  {
   "cell_type": "markdown",
   "id": "f33ea0d1",
   "metadata": {},
   "source": [
    "# Write a program to check voting eligibility of a person"
   ]
  },
  {
   "cell_type": "code",
   "execution_count": 1,
   "id": "a6a22e59",
   "metadata": {},
   "outputs": [
    {
     "name": "stdout",
     "output_type": "stream",
     "text": [
      "Enter the age : 43\n",
      "You can vote!\n"
     ]
    }
   ],
   "source": [
    "age=int(input('Enter the age : '))\n",
    "if (age>=18):\n",
    "    print('You can vote!')\n",
    "if (age<18):\n",
    "    print(\"you can't vote!\")"
   ]
  },
  {
   "cell_type": "code",
   "execution_count": null,
   "id": "3b81b9a8",
   "metadata": {},
   "outputs": [],
   "source": []
  }
 ],
 "metadata": {
  "kernelspec": {
   "display_name": "Python 3 (ipykernel)",
   "language": "python",
   "name": "python3"
  },
  "language_info": {
   "codemirror_mode": {
    "name": "ipython",
    "version": 3
   },
   "file_extension": ".py",
   "mimetype": "text/x-python",
   "name": "python",
   "nbconvert_exporter": "python",
   "pygments_lexer": "ipython3",
   "version": "3.9.12"
  }
 },
 "nbformat": 4,
 "nbformat_minor": 5
}
