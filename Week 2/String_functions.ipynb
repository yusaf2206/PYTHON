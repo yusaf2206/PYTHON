{
 "cells": [
  {
   "cell_type": "code",
   "execution_count": 1,
   "id": "66b14daf",
   "metadata": {},
   "outputs": [
    {
     "data": {
      "text/plain": [
       "'yusaf'"
      ]
     },
     "execution_count": 1,
     "metadata": {},
     "output_type": "execute_result"
    }
   ],
   "source": [
    "'yusaf'"
   ]
  },
  {
   "cell_type": "code",
   "execution_count": 3,
   "id": "c011dd28",
   "metadata": {},
   "outputs": [
    {
     "data": {
      "text/plain": [
       "'Yusaf'"
      ]
     },
     "execution_count": 3,
     "metadata": {},
     "output_type": "execute_result"
    }
   ],
   "source": [
    "'yusaf'.capitalize()"
   ]
  },
  {
   "cell_type": "code",
   "execution_count": 4,
   "id": "309754f1",
   "metadata": {},
   "outputs": [
    {
     "data": {
      "text/plain": [
       "'YUSAF'"
      ]
     },
     "execution_count": 4,
     "metadata": {},
     "output_type": "execute_result"
    }
   ],
   "source": [
    "'yusaf'.upper()"
   ]
  },
  {
   "cell_type": "code",
   "execution_count": 5,
   "id": "f314d8e4",
   "metadata": {},
   "outputs": [
    {
     "data": {
      "text/plain": [
       "'yusaf'"
      ]
     },
     "execution_count": 5,
     "metadata": {},
     "output_type": "execute_result"
    }
   ],
   "source": [
    "'YUSAF'.lower()"
   ]
  },
  {
   "cell_type": "code",
   "execution_count": 6,
   "id": "e26d0686",
   "metadata": {},
   "outputs": [],
   "source": [
    "c='YUSAF'*5"
   ]
  },
  {
   "cell_type": "code",
   "execution_count": 7,
   "id": "43fd3797",
   "metadata": {},
   "outputs": [
    {
     "data": {
      "text/plain": [
       "'YUSAFYUSAFYUSAFYUSAFYUSAF'"
      ]
     },
     "execution_count": 7,
     "metadata": {},
     "output_type": "execute_result"
    }
   ],
   "source": [
    "c"
   ]
  },
  {
   "cell_type": "code",
   "execution_count": 8,
   "id": "2dabc088",
   "metadata": {},
   "outputs": [
    {
     "data": {
      "text/plain": [
       "5"
      ]
     },
     "execution_count": 8,
     "metadata": {},
     "output_type": "execute_result"
    }
   ],
   "source": [
    "c.count('S')"
   ]
  },
  {
   "cell_type": "code",
   "execution_count": 10,
   "id": "6034bf3f",
   "metadata": {},
   "outputs": [
    {
     "data": {
      "text/plain": [
       "'YUSAF PATHAN'"
      ]
     },
     "execution_count": 10,
     "metadata": {},
     "output_type": "execute_result"
    }
   ],
   "source": [
    "'      YUSAF PATHAN          '.strip()"
   ]
  },
  {
   "cell_type": "code",
   "execution_count": 11,
   "id": "1398e2cb",
   "metadata": {},
   "outputs": [
    {
     "data": {
      "text/plain": [
       "'Yusaf Pathan'"
      ]
     },
     "execution_count": 11,
     "metadata": {},
     "output_type": "execute_result"
    }
   ],
   "source": [
    "'YUSAF PATHAN'.title()"
   ]
  },
  {
   "cell_type": "code",
   "execution_count": null,
   "id": "95daee68",
   "metadata": {},
   "outputs": [],
   "source": []
  }
 ],
 "metadata": {
  "kernelspec": {
   "display_name": "Python 3 (ipykernel)",
   "language": "python",
   "name": "python3"
  },
  "language_info": {
   "codemirror_mode": {
    "name": "ipython",
    "version": 3
   },
   "file_extension": ".py",
   "mimetype": "text/x-python",
   "name": "python",
   "nbconvert_exporter": "python",
   "pygments_lexer": "ipython3",
   "version": "3.9.12"
  }
 },
 "nbformat": 4,
 "nbformat_minor": 5
}
