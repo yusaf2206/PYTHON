{
 "cells": [
  {
   "cell_type": "markdown",
   "id": "cab0e755",
   "metadata": {},
   "source": [
    "# 1. voting eliigibility"
   ]
  },
  {
   "cell_type": "code",
   "execution_count": 2,
   "id": "176d62d1",
   "metadata": {},
   "outputs": [
    {
     "name": "stdout",
     "output_type": "stream",
     "text": [
      "Enter the age : 12\n",
      "you can't vote!\n"
     ]
    }
   ],
   "source": [
    "age=int(input('Enter the age : '))\n",
    "if (age>=18):\n",
    "    print('You can vote!')\n",
    "if (age<18):\n",
    "    print(\"you can't vote!\")"
   ]
  },
  {
   "cell_type": "markdown",
   "id": "3b9a3cae",
   "metadata": {},
   "source": [
    "# 2. odd/even"
   ]
  },
  {
   "cell_type": "code",
   "execution_count": 18,
   "id": "0bf890b5",
   "metadata": {},
   "outputs": [
    {
     "name": "stdout",
     "output_type": "stream",
     "text": [
      "Enter the  integer number : 8\n",
      "even\n"
     ]
    }
   ],
   "source": [
    "num=int(input('Enter the  integer number : '))\n",
    "if (num%2==0):\n",
    "    print('even')\n",
    "if (num%2!=0):\n",
    "    print('odd')"
   ]
  },
  {
   "cell_type": "code",
   "execution_count": null,
   "id": "8b0e7ad8",
   "metadata": {},
   "outputs": [],
   "source": []
  }
 ],
 "metadata": {
  "kernelspec": {
   "display_name": "Python 3 (ipykernel)",
   "language": "python",
   "name": "python3"
  },
  "language_info": {
   "codemirror_mode": {
    "name": "ipython",
    "version": 3
   },
   "file_extension": ".py",
   "mimetype": "text/x-python",
   "name": "python",
   "nbconvert_exporter": "python",
   "pygments_lexer": "ipython3",
   "version": "3.9.12"
  }
 },
 "nbformat": 4,
 "nbformat_minor": 5
}
