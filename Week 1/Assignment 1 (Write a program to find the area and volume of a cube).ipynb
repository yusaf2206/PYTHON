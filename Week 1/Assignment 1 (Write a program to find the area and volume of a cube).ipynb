{
 "cells": [
  {
   "cell_type": "markdown",
   "id": "50ffecec",
   "metadata": {},
   "source": [
    "# Write a program to find the area and volume of a cube"
   ]
  },
  {
   "cell_type": "code",
   "execution_count": 11,
   "id": "fae20395",
   "metadata": {},
   "outputs": [
    {
     "name": "stdout",
     "output_type": "stream",
     "text": [
      "enter length of side of cube in meter 4\n",
      "area of cube is  96.0 m^2\n",
      "volume of cube is  64.0 m^3\n"
     ]
    }
   ],
   "source": [
    "def Area_of_cube(x):\n",
    "    Area = (6*(x**2))\n",
    "    return Area\n",
    "def Volume_of_cube(x):\n",
    "    volume=x**3\n",
    "    return volume\n",
    "side = float(input('enter length of side of cube in meter '))\n",
    "a = Area_of_cube(side)\n",
    "b = Volume_of_cube(side)\n",
    "print('area of cube is ',a,'m^2'\"\\nvolume of cube is \",b,'m^3')\n"
   ]
  },
  {
   "cell_type": "code",
   "execution_count": null,
   "id": "b8c7be50",
   "metadata": {},
   "outputs": [],
   "source": []
  }
 ],
 "metadata": {
  "kernelspec": {
   "display_name": "Python 3 (ipykernel)",
   "language": "python",
   "name": "python3"
  },
  "language_info": {
   "codemirror_mode": {
    "name": "ipython",
    "version": 3
   },
   "file_extension": ".py",
   "mimetype": "text/x-python",
   "name": "python",
   "nbconvert_exporter": "python",
   "pygments_lexer": "ipython3",
   "version": "3.9.12"
  }
 },
 "nbformat": 4,
 "nbformat_minor": 5
}
