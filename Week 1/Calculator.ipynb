{
 "cells": [
  {
   "cell_type": "code",
   "execution_count": 3,
   "id": "37aa65a4",
   "metadata": {},
   "outputs": [
    {
     "name": "stdout",
     "output_type": "stream",
     "text": [
      "3\n",
      "4\n"
     ]
    }
   ],
   "source": [
    "x1=float(input())\n",
    "x2=float(input())\n"
   ]
  },
  {
   "cell_type": "code",
   "execution_count": 15,
   "id": "b4bb6b6a",
   "metadata": {},
   "outputs": [
    {
     "name": "stdout",
     "output_type": "stream",
     "text": [
      "u\n"
     ]
    }
   ],
   "source": [
    "operation=input()\n",
    "\n"
   ]
  },
  {
   "cell_type": "code",
   "execution_count": 16,
   "id": "2f090340",
   "metadata": {},
   "outputs": [
    {
     "name": "stdout",
     "output_type": "stream",
     "text": [
      "invalid operation\n"
     ]
    }
   ],
   "source": [
    "if operation==\"+\":\n",
    "    print(\"sum of x1 & x2 is \" ,x1+x2 )\n",
    "elif operation==\"-\":\n",
    "    print(\"sub of x1 & x2 is \" ,x1-x2 )\n",
    "elif operation==\"*\":\n",
    "    print(\"multiplication of x1 & x2 is \" ,x1*x2 )\n",
    "elif operation==\"/\":\n",
    "    print(\"division of x1 & x2 is \" ,x1/x2 )\n",
    "elif operation==\"//\":\n",
    "    print(\"coefficient of x1 & x2 is \" ,x1//x2 )\n",
    "elif operation==\"%\":\n",
    "    print(\"modulus of x1 & x2 is \" ,x1%x2 )\n",
    "elif operation==\"**\":\n",
    "    print(\"x1 to the power x2 is \" ,x1**x2 )\n",
    "else:\n",
    "    print('invalid operation')"
   ]
  },
  {
   "cell_type": "code",
   "execution_count": null,
   "id": "3d94ae2c",
   "metadata": {},
   "outputs": [],
   "source": []
  }
 ],
 "metadata": {
  "kernelspec": {
   "display_name": "Python 3 (ipykernel)",
   "language": "python",
   "name": "python3"
  },
  "language_info": {
   "codemirror_mode": {
    "name": "ipython",
    "version": 3
   },
   "file_extension": ".py",
   "mimetype": "text/x-python",
   "name": "python",
   "nbconvert_exporter": "python",
   "pygments_lexer": "ipython3",
   "version": "3.9.12"
  }
 },
 "nbformat": 4,
 "nbformat_minor": 5
}
