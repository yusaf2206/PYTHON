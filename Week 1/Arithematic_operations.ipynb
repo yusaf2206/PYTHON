{
 "cells": [
  {
   "cell_type": "code",
   "execution_count": 1,
   "id": "4958664a",
   "metadata": {},
   "outputs": [],
   "source": [
    "a=7"
   ]
  },
  {
   "cell_type": "code",
   "execution_count": 2,
   "id": "9b945484",
   "metadata": {},
   "outputs": [],
   "source": [
    "b=3"
   ]
  },
  {
   "cell_type": "markdown",
   "id": "06423b7a",
   "metadata": {},
   "source": [
    "Sum(+)"
   ]
  },
  {
   "cell_type": "code",
   "execution_count": 3,
   "id": "899320eb",
   "metadata": {},
   "outputs": [
    {
     "data": {
      "text/plain": [
       "10"
      ]
     },
     "execution_count": 3,
     "metadata": {},
     "output_type": "execute_result"
    }
   ],
   "source": [
    "a+b"
   ]
  },
  {
   "cell_type": "code",
   "execution_count": 4,
   "id": "308bb341",
   "metadata": {},
   "outputs": [
    {
     "data": {
      "text/plain": [
       "14.666"
      ]
     },
     "execution_count": 4,
     "metadata": {},
     "output_type": "execute_result"
    }
   ],
   "source": [
    "round(8.88766+5.77878,3)"
   ]
  },
  {
   "cell_type": "markdown",
   "id": "00e9106a",
   "metadata": {},
   "source": [
    "round function is used to round off the number in float to required decimals"
   ]
  },
  {
   "cell_type": "markdown",
   "id": "dedab72d",
   "metadata": {},
   "source": [
    "sub(-)"
   ]
  },
  {
   "cell_type": "code",
   "execution_count": 5,
   "id": "7b3c2de7",
   "metadata": {},
   "outputs": [],
   "source": [
    "c=a-b"
   ]
  },
  {
   "cell_type": "code",
   "execution_count": 6,
   "id": "1f6410a3",
   "metadata": {},
   "outputs": [
    {
     "data": {
      "text/plain": [
       "3.999991"
      ]
     },
     "execution_count": 6,
     "metadata": {},
     "output_type": "execute_result"
    }
   ],
   "source": [
    "c-0.000009"
   ]
  },
  {
   "cell_type": "code",
   "execution_count": 7,
   "id": "166aff4c",
   "metadata": {},
   "outputs": [
    {
     "data": {
      "text/plain": [
       "4.0"
      ]
     },
     "execution_count": 7,
     "metadata": {},
     "output_type": "execute_result"
    }
   ],
   "source": [
    "round(c-0.000009,2)"
   ]
  },
  {
   "cell_type": "markdown",
   "id": "7dfc74e4",
   "metadata": {},
   "source": [
    "Mul(*)"
   ]
  },
  {
   "cell_type": "code",
   "execution_count": 8,
   "id": "ed3acbcb",
   "metadata": {},
   "outputs": [
    {
     "data": {
      "text/plain": [
       "21"
      ]
     },
     "execution_count": 8,
     "metadata": {},
     "output_type": "execute_result"
    }
   ],
   "source": [
    "a*b"
   ]
  },
  {
   "cell_type": "markdown",
   "id": "bd772ace",
   "metadata": {},
   "source": [
    "Div(/)"
   ]
  },
  {
   "cell_type": "code",
   "execution_count": 9,
   "id": "049f783c",
   "metadata": {},
   "outputs": [
    {
     "data": {
      "text/plain": [
       "2.3333333333333335"
      ]
     },
     "execution_count": 9,
     "metadata": {},
     "output_type": "execute_result"
    }
   ],
   "source": [
    "a/b"
   ]
  },
  {
   "cell_type": "code",
   "execution_count": 10,
   "id": "d42d0f82",
   "metadata": {},
   "outputs": [
    {
     "data": {
      "text/plain": [
       "2.333"
      ]
     },
     "execution_count": 10,
     "metadata": {},
     "output_type": "execute_result"
    }
   ],
   "source": [
    "round(a/b,3)"
   ]
  },
  {
   "cell_type": "markdown",
   "id": "e8dd87b6",
   "metadata": {},
   "source": [
    "Div(//)|Coeff"
   ]
  },
  {
   "cell_type": "code",
   "execution_count": 11,
   "id": "57995777",
   "metadata": {},
   "outputs": [
    {
     "data": {
      "text/plain": [
       "2"
      ]
     },
     "execution_count": 11,
     "metadata": {},
     "output_type": "execute_result"
    }
   ],
   "source": [
    "a//b"
   ]
  },
  {
   "cell_type": "markdown",
   "id": "28506b36",
   "metadata": {},
   "source": [
    "Mod(%)"
   ]
  },
  {
   "cell_type": "code",
   "execution_count": 12,
   "id": "b6bc17f9",
   "metadata": {},
   "outputs": [
    {
     "data": {
      "text/plain": [
       "1"
      ]
     },
     "execution_count": 12,
     "metadata": {},
     "output_type": "execute_result"
    }
   ],
   "source": [
    "a%b"
   ]
  },
  {
   "cell_type": "markdown",
   "id": "78003060",
   "metadata": {},
   "source": [
    "Pow(**)"
   ]
  },
  {
   "cell_type": "code",
   "execution_count": 13,
   "id": "ea00b6d4",
   "metadata": {},
   "outputs": [
    {
     "data": {
      "text/plain": [
       "343"
      ]
     },
     "execution_count": 13,
     "metadata": {},
     "output_type": "execute_result"
    }
   ],
   "source": [
    "a**b"
   ]
  },
  {
   "cell_type": "code",
   "execution_count": null,
   "id": "6dfb35fb",
   "metadata": {},
   "outputs": [],
   "source": []
  }
 ],
 "metadata": {
  "kernelspec": {
   "display_name": "Python 3 (ipykernel)",
   "language": "python",
   "name": "python3"
  },
  "language_info": {
   "codemirror_mode": {
    "name": "ipython",
    "version": 3
   },
   "file_extension": ".py",
   "mimetype": "text/x-python",
   "name": "python",
   "nbconvert_exporter": "python",
   "pygments_lexer": "ipython3",
   "version": "3.9.12"
  }
 },
 "nbformat": 4,
 "nbformat_minor": 5
}
