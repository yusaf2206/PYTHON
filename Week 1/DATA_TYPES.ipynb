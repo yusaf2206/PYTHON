{
 "cells": [
  {
   "cell_type": "code",
   "execution_count": 1,
   "id": "b2ef2119",
   "metadata": {},
   "outputs": [
    {
     "name": "stdout",
     "output_type": "stream",
     "text": [
      "1\n",
      "-1\n",
      "0\n",
      "6849312\n"
     ]
    }
   ],
   "source": [
    "#interger\n",
    "print(1)\n",
    "print(-1)\n",
    "print(0)\n",
    "print(6849312)"
   ]
  },
  {
   "cell_type": "code",
   "execution_count": 2,
   "id": "9130c383",
   "metadata": {},
   "outputs": [
    {
     "name": "stdout",
     "output_type": "stream",
     "text": [
      "3.14\n",
      "0.01\n",
      "1.0\n",
      "-1.4357834\n"
     ]
    }
   ],
   "source": [
    "#float\n",
    "print(3.14)\n",
    "print(0.01)\n",
    "print(1.0)\n",
    "print(-1.4357834)"
   ]
  },
  {
   "cell_type": "code",
   "execution_count": 3,
   "id": "89b54f7d",
   "metadata": {},
   "outputs": [
    {
     "name": "stdout",
     "output_type": "stream",
     "text": [
      "Ashish\n",
      "Ashish\n",
      "Ashish fds f sdf sd fs adf jha shf sdhjb fgjd\n"
     ]
    }
   ],
   "source": [
    "#string\n",
    "print('Ashish')\n",
    "print(\"Ashish\")\n",
    "print(\"Ashish fds f sdf sd fs adf jha shf sdhjb fgjd\")"
   ]
  },
  {
   "cell_type": "code",
   "execution_count": 4,
   "id": "4d5c393a",
   "metadata": {},
   "outputs": [
    {
     "name": "stdout",
     "output_type": "stream",
     "text": [
      "True\n",
      "False\n"
     ]
    }
   ],
   "source": [
    "#boolean\n",
    "print(True)\n",
    "print(False)"
   ]
  }
 ],
 "metadata": {
  "kernelspec": {
   "display_name": "Python 3 (ipykernel)",
   "language": "python",
   "name": "python3"
  },
  "language_info": {
   "codemirror_mode": {
    "name": "ipython",
    "version": 3
   },
   "file_extension": ".py",
   "mimetype": "text/x-python",
   "name": "python",
   "nbconvert_exporter": "python",
   "pygments_lexer": "ipython3",
   "version": "3.9.12"
  }
 },
 "nbformat": 4,
 "nbformat_minor": 5
}
