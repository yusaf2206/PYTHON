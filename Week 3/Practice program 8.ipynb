{
 "cells": [
  {
   "cell_type": "markdown",
   "id": "1450ba25",
   "metadata": {},
   "source": [
    "## Print all pairs if tossing 4 coins"
   ]
  },
  {
   "cell_type": "code",
   "execution_count": 6,
   "id": "c915993d",
   "metadata": {},
   "outputs": [
    {
     "name": "stdout",
     "output_type": "stream",
     "text": [
      "----------\n",
      "0 0 0 0\n",
      "----------\n",
      "0 0 0 1\n",
      "----------\n",
      "0 0 1 0\n",
      "----------\n",
      "0 0 1 1\n",
      "----------\n",
      "0 1 0 0\n",
      "----------\n",
      "0 1 0 1\n",
      "----------\n",
      "0 1 1 0\n",
      "----------\n",
      "0 1 1 1\n",
      "----------\n",
      "1 0 0 0\n",
      "----------\n",
      "1 0 0 1\n",
      "----------\n",
      "1 0 1 0\n",
      "----------\n",
      "1 0 1 1\n",
      "----------\n",
      "1 1 0 0\n",
      "----------\n",
      "1 1 0 1\n",
      "----------\n",
      "1 1 1 0\n",
      "----------\n",
      "1 1 1 1\n",
      "----------\n",
      "--------------------\n",
      "Total count =  16\n",
      "--------------------\n"
     ]
    }
   ],
   "source": [
    "count=0\n",
    "for i in range(0,2):\n",
    "    for j in range(0,2):\n",
    "        for k in range(0,2):\n",
    "            for l in range(0,2):\n",
    "                print('-'*10)\n",
    "                print(i,j,k,l)\n",
    "                count+=1\n",
    "print('-'*10)\n",
    "print('-'*20)\n",
    "print(\"Total count = \",count)\n",
    "print('-'*20)"
   ]
  },
  {
   "cell_type": "code",
   "execution_count": null,
   "id": "f2e03631",
   "metadata": {},
   "outputs": [],
   "source": []
  }
 ],
 "metadata": {
  "kernelspec": {
   "display_name": "Python 3 (ipykernel)",
   "language": "python",
   "name": "python3"
  },
  "language_info": {
   "codemirror_mode": {
    "name": "ipython",
    "version": 3
   },
   "file_extension": ".py",
   "mimetype": "text/x-python",
   "name": "python",
   "nbconvert_exporter": "python",
   "pygments_lexer": "ipython3",
   "version": "3.9.12"
  }
 },
 "nbformat": 4,
 "nbformat_minor": 5
}
