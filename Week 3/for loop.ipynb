{
 "cells": [
  {
   "cell_type": "markdown",
   "id": "1492d384",
   "metadata": {},
   "source": [
    "# print table of given number"
   ]
  },
  {
   "cell_type": "code",
   "execution_count": 1,
   "id": "da0fef6f",
   "metadata": {},
   "outputs": [
    {
     "name": "stdout",
     "output_type": "stream",
     "text": [
      "Enter the number: 4\n"
     ]
    }
   ],
   "source": [
    "num = int(input('Enter the number: '))"
   ]
  },
  {
   "cell_type": "code",
   "execution_count": 3,
   "id": "b58dc787",
   "metadata": {},
   "outputs": [
    {
     "name": "stdout",
     "output_type": "stream",
     "text": [
      "__________\n",
      "4 x 1 = 4\n",
      "4 x 2 = 8\n",
      "4 x 3 = 12\n",
      "4 x 4 = 16\n",
      "4 x 5 = 20\n",
      "4 x 6 = 24\n",
      "4 x 7 = 28\n",
      "4 x 8 = 32\n",
      "4 x 9 = 36\n",
      "4 x 10 = 40\n",
      "__________\n"
     ]
    }
   ],
   "source": [
    "print('_'*10)\n",
    "print(num,'x',1,'=',num*1)\n",
    "print(num,'x',2,'=',num*2)\n",
    "print(num,'x',3,'=',num*3)\n",
    "print(num,'x',4,'=',num*4)\n",
    "print(num,'x',5,'=',num*5)\n",
    "print(num,'x',6,'=',num*6)\n",
    "print(num,'x',7,'=',num*7)\n",
    "print(num,'x',8,'=',num*8)\n",
    "print(num,'x',9,'=',num*9)\n",
    "print(num,'x',10,'=',num*10)\n",
    "print('_'*10)"
   ]
  },
  {
   "cell_type": "markdown",
   "id": "39ca2a96",
   "metadata": {},
   "source": [
    "# table using for loop"
   ]
  },
  {
   "cell_type": "code",
   "execution_count": 4,
   "id": "8cd015b6",
   "metadata": {},
   "outputs": [
    {
     "name": "stdout",
     "output_type": "stream",
     "text": [
      "Enter the number5\n",
      "__________\n",
      "5 x 1 = 5\n",
      "5 x 2 = 10\n",
      "5 x 3 = 15\n",
      "5 x 4 = 20\n",
      "5 x 5 = 25\n",
      "5 x 6 = 30\n",
      "5 x 7 = 35\n",
      "5 x 8 = 40\n",
      "5 x 9 = 45\n",
      "5 x 10 = 50\n",
      "__________\n"
     ]
    }
   ],
   "source": [
    "num=int(input('Enter the number'))\n",
    "\n",
    "print('_'*10)\n",
    "for i in range(1,11):\n",
    "    print(num,'x',i,'=',i*num)\n",
    "print('_'*10)"
   ]
  },
  {
   "cell_type": "code",
   "execution_count": null,
   "id": "39a1b715",
   "metadata": {},
   "outputs": [],
   "source": []
  }
 ],
 "metadata": {
  "kernelspec": {
   "display_name": "Python 3 (ipykernel)",
   "language": "python",
   "name": "python3"
  },
  "language_info": {
   "codemirror_mode": {
    "name": "ipython",
    "version": 3
   },
   "file_extension": ".py",
   "mimetype": "text/x-python",
   "name": "python",
   "nbconvert_exporter": "python",
   "pygments_lexer": "ipython3",
   "version": "3.9.12"
  }
 },
 "nbformat": 4,
 "nbformat_minor": 5
}
