{
 "cells": [
  {
   "cell_type": "code",
   "execution_count": 1,
   "id": "7747be24",
   "metadata": {},
   "outputs": [
    {
     "name": "stdout",
     "output_type": "stream",
     "text": [
      "--------------\n",
      "( 2 , 2 , 2 )\n",
      "( 2 , 2 , 4 )\n",
      "( 2 , 2 , 6 )\n",
      "( 2 , 4 , 2 )\n",
      "( 2 , 4 , 4 )\n",
      "( 2 , 4 , 6 )\n",
      "( 2 , 6 , 2 )\n",
      "( 2 , 6 , 4 )\n",
      "( 2 , 6 , 6 )\n",
      "--------------\n",
      "--------------\n",
      "( 4 , 2 , 2 )\n",
      "( 4 , 2 , 4 )\n",
      "( 4 , 2 , 6 )\n",
      "( 4 , 4 , 2 )\n",
      "( 4 , 4 , 4 )\n",
      "( 4 , 4 , 6 )\n",
      "( 4 , 6 , 2 )\n",
      "( 4 , 6 , 4 )\n",
      "( 4 , 6 , 6 )\n",
      "--------------\n",
      "--------------\n",
      "( 6 , 2 , 2 )\n",
      "( 6 , 2 , 4 )\n",
      "( 6 , 2 , 6 )\n",
      "( 6 , 4 , 2 )\n",
      "( 6 , 4 , 4 )\n",
      "( 6 , 4 , 6 )\n",
      "( 6 , 6 , 2 )\n",
      "( 6 , 6 , 4 )\n",
      "( 6 , 6 , 6 )\n",
      "--------------\n",
      "27\n"
     ]
    }
   ],
   "source": [
    "c = 0\n",
    "\n",
    "for dice_1 in range(1,7):\n",
    "    if (dice_1%2 == 0):    \n",
    "        for dice_2 in range(1,7):\n",
    "            if (dice_2%2 == 0): \n",
    "                for dice_3 in range(1,7):\n",
    "                    if (dice_3%2 == 0): \n",
    "                        print('(',dice_1,',',dice_2,',',dice_3,')')\n",
    "                        c = c + 1\n",
    "    print(\"--------------\")\n",
    "    \n",
    "print(c)"
   ]
  },
  {
   "cell_type": "code",
   "execution_count": null,
   "id": "40041cc0",
   "metadata": {},
   "outputs": [],
   "source": []
  }
 ],
 "metadata": {
  "kernelspec": {
   "display_name": "Python 3 (ipykernel)",
   "language": "python",
   "name": "python3"
  },
  "language_info": {
   "codemirror_mode": {
    "name": "ipython",
    "version": 3
   },
   "file_extension": ".py",
   "mimetype": "text/x-python",
   "name": "python",
   "nbconvert_exporter": "python",
   "pygments_lexer": "ipython3",
   "version": "3.9.12"
  }
 },
 "nbformat": 4,
 "nbformat_minor": 5
}
