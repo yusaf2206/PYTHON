{
 "cells": [
  {
   "cell_type": "markdown",
   "id": "655960f5",
   "metadata": {},
   "source": [
    "# check if number is divisible by 5 & 7 and less than 100"
   ]
  },
  {
   "cell_type": "code",
   "execution_count": 3,
   "id": "05accfa5",
   "metadata": {},
   "outputs": [
    {
     "name": "stdout",
     "output_type": "stream",
     "text": [
      "enter the number7\n",
      "not divisible by 5 \n",
      "Invalid\n"
     ]
    }
   ],
   "source": [
    "num= int(input('enter the number'))\n",
    "if (num%5 == 0):\n",
    "    if (num%7 == 0):\n",
    "        if (num<=100):\n",
    "            print('Valid')\n",
    "        else:\n",
    "            print('out of range \\nInvalid')\n",
    "    else:\n",
    "        print('not divisible by 7','\\nInvalid')\n",
    "        \n",
    "else:\n",
    "    print('not divisible by 5 \\nInvalid')"
   ]
  },
  {
   "cell_type": "code",
   "execution_count": null,
   "id": "ee5ccf40",
   "metadata": {},
   "outputs": [],
   "source": []
  },
  {
   "cell_type": "code",
   "execution_count": null,
   "id": "e41b47bc",
   "metadata": {},
   "outputs": [],
   "source": []
  }
 ],
 "metadata": {
  "kernelspec": {
   "display_name": "Python 3 (ipykernel)",
   "language": "python",
   "name": "python3"
  },
  "language_info": {
   "codemirror_mode": {
    "name": "ipython",
    "version": 3
   },
   "file_extension": ".py",
   "mimetype": "text/x-python",
   "name": "python",
   "nbconvert_exporter": "python",
   "pygments_lexer": "ipython3",
   "version": "3.9.12"
  }
 },
 "nbformat": 4,
 "nbformat_minor": 5
}
