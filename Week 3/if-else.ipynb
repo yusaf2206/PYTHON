{
 "cells": [
  {
   "cell_type": "markdown",
   "id": "cab0e755",
   "metadata": {},
   "source": [
    "# 1. voting eliigibility"
   ]
  },
  {
   "cell_type": "code",
   "execution_count": 1,
   "id": "176d62d1",
   "metadata": {},
   "outputs": [
    {
     "name": "stdout",
     "output_type": "stream",
     "text": [
      "Enter the age : 8\n",
      "you can't vote!\n"
     ]
    }
   ],
   "source": [
    "age=int(input('Enter the age : '))\n",
    "if (age>=18):\n",
    "    print('You can vote!')\n",
    "else:\n",
    "    print(\"you can't vote!\")"
   ]
  },
  {
   "cell_type": "markdown",
   "id": "3b9a3cae",
   "metadata": {},
   "source": [
    "# 2. odd/even"
   ]
  },
  {
   "cell_type": "code",
   "execution_count": 2,
   "id": "0bf890b5",
   "metadata": {},
   "outputs": [
    {
     "name": "stdout",
     "output_type": "stream",
     "text": [
      "Enter the  integer number : 8\n",
      "even\n"
     ]
    }
   ],
   "source": [
    "num=int(input('Enter the  integer number : '))\n",
    "if (num%2==0):\n",
    "    print('even')\n",
    "else:\n",
    "    print('odd')"
   ]
  },
  {
   "cell_type": "markdown",
   "id": "b3b986f4",
   "metadata": {},
   "source": [
    "# 3. if age is in range (18-25)"
   ]
  },
  {
   "cell_type": "code",
   "execution_count": null,
   "id": "3b8ccad6",
   "metadata": {},
   "outputs": [],
   "source": [
    "age=int(input('Enter the age of person'))\n",
    "if (age==18,19,20,21,22,23,24,25):\n",
    "    print('yes')\n",
    "else:\n",
    "    print('no')"
   ]
  },
  {
   "cell_type": "code",
   "execution_count": null,
   "id": "25c19ef5",
   "metadata": {},
   "outputs": [],
   "source": [
    "age=int(input('Enter the age of person'))\n",
    "if (age>=18 and age<=25):\n",
    "    print('yes')\n",
    "else:\n",
    "    print('no')"
   ]
  },
  {
   "cell_type": "markdown",
   "id": "e55584be",
   "metadata": {},
   "source": [
    "# 4. Grading system"
   ]
  },
  {
   "cell_type": "code",
   "execution_count": 3,
   "id": "60a4e877",
   "metadata": {},
   "outputs": [
    {
     "name": "stdout",
     "output_type": "stream",
     "text": [
      "Enter marks of the student90\n",
      "You got A\n"
     ]
    }
   ],
   "source": [
    "marks = int(input('Enter marks of the student'))\n",
    "# 95+ = A+\n",
    "# 90-95 = A\n",
    "# 80-89 = B+\n",
    "# 70-79 = B\n",
    "# 60-69 = C\n",
    "# 50-59 = D\n",
    "# 0-49 = F\n",
    "if (marks>95):\n",
    "    print('You got A+')\n",
    "if ((marks>=90)and(marks<=95)):\n",
    "    print('You got A')\n",
    "if ((marks>=80)and(marks<90)):\n",
    "    print('You got B+')\n",
    "if ((marks>=70)and(marks<=79)):\n",
    "    print('You got B')\n",
    "if ((marks>=60)and(marks<=69)):\n",
    "    print('You got C')\n",
    "if ((marks>=50)and(marks<=59)):\n",
    "    print('You got D')\n",
    "if (marks<50):\n",
    "    print('You got F')"
   ]
  },
  {
   "cell_type": "code",
   "execution_count": null,
   "id": "1e69b378",
   "metadata": {},
   "outputs": [],
   "source": []
  }
 ],
 "metadata": {
  "kernelspec": {
   "display_name": "Python 3 (ipykernel)",
   "language": "python",
   "name": "python3"
  },
  "language_info": {
   "codemirror_mode": {
    "name": "ipython",
    "version": 3
   },
   "file_extension": ".py",
   "mimetype": "text/x-python",
   "name": "python",
   "nbconvert_exporter": "python",
   "pygments_lexer": "ipython3",
   "version": "3.9.12"
  }
 },
 "nbformat": 4,
 "nbformat_minor": 5
}
