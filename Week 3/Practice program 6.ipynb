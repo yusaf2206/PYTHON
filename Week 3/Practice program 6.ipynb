{
 "cells": [
  {
   "cell_type": "markdown",
   "id": "96fae34a",
   "metadata": {},
   "source": [
    "## Check if number is divisible by 5,7 and 9 as well"
   ]
  },
  {
   "cell_type": "code",
   "execution_count": 3,
   "id": "dd550aae",
   "metadata": {},
   "outputs": [
    {
     "name": "stdout",
     "output_type": "stream",
     "text": [
      "Enter your number : 99\n",
      "Given number is divisible by 9 only.\n"
     ]
    }
   ],
   "source": [
    "number= int(input(\"Enter your number : \"))\n",
    "if (number%5==0):\n",
    "    if (number%7==0):\n",
    "        if(number%9==0):\n",
    "            print(\"Given number is divisible by 5,7 and 9.\")\n",
    "        else:\n",
    "            print(\"Given number is divible by 5 and 7 only.\")\n",
    "    else:\n",
    "        print(\"Given number is only divisible by 5.\")\n",
    "elif (number%7==0):\n",
    "    if(number%9==0):\n",
    "        print(\"Given number is divisible by 7 and 9.\")\n",
    "    else:\n",
    "        print(\"Given number is divible by 7 only.\")\n",
    "elif (number%9==0):\n",
    "    print(\"Given number is divisible by 9 only.\")\n",
    "else:\n",
    "    print(\"Enter a valid number!!!\")"
   ]
  },
  {
   "cell_type": "code",
   "execution_count": null,
   "id": "58ca96ea",
   "metadata": {},
   "outputs": [],
   "source": []
  }
 ],
 "metadata": {
  "kernelspec": {
   "display_name": "Python 3 (ipykernel)",
   "language": "python",
   "name": "python3"
  },
  "language_info": {
   "codemirror_mode": {
    "name": "ipython",
    "version": 3
   },
   "file_extension": ".py",
   "mimetype": "text/x-python",
   "name": "python",
   "nbconvert_exporter": "python",
   "pygments_lexer": "ipython3",
   "version": "3.9.12"
  }
 },
 "nbformat": 4,
 "nbformat_minor": 5
}
