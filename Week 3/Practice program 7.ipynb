{
 "cells": [
  {
   "cell_type": "markdown",
   "id": "9bc8363b",
   "metadata": {},
   "source": [
    "## Print all number between 1 and 100 which are divisible by 5 and 7."
   ]
  },
  {
   "cell_type": "code",
   "execution_count": 2,
   "id": "4f611e58",
   "metadata": {},
   "outputs": [
    {
     "name": "stdout",
     "output_type": "stream",
     "text": [
      "35 70 "
     ]
    }
   ],
   "source": [
    "for i in range (1,101):\n",
    "    if (i%5==0) and (i%7==0) :\n",
    "        print (i,end=' ')"
   ]
  },
  {
   "cell_type": "code",
   "execution_count": null,
   "id": "2e302504",
   "metadata": {},
   "outputs": [],
   "source": []
  }
 ],
 "metadata": {
  "kernelspec": {
   "display_name": "Python 3 (ipykernel)",
   "language": "python",
   "name": "python3"
  },
  "language_info": {
   "codemirror_mode": {
    "name": "ipython",
    "version": 3
   },
   "file_extension": ".py",
   "mimetype": "text/x-python",
   "name": "python",
   "nbconvert_exporter": "python",
   "pygments_lexer": "ipython3",
   "version": "3.9.12"
  }
 },
 "nbformat": 4,
 "nbformat_minor": 5
}
