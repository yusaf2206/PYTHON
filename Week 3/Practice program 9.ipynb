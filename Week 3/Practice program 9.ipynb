{
 "cells": [
  {
   "cell_type": "markdown",
   "id": "3bec007a",
   "metadata": {},
   "source": [
    "## Print  first 20 numbers which are not divisible by 2 and 3."
   ]
  },
  {
   "cell_type": "code",
   "execution_count": 37,
   "id": "7fede374",
   "metadata": {},
   "outputs": [
    {
     "name": "stdout",
     "output_type": "stream",
     "text": [
      "1 5 7 11 13 17 19 23 25 29 31 35 37 41 43 47 49 53 55 59 \n",
      "  # # # # # # # # # # # # # # # # # # # #\n",
      "count =  20\n"
     ]
    }
   ],
   "source": [
    "count=0\n",
    "\n",
    "for i in range(100):\n",
    "    if (i%2!=0)and(i%3!=0)and (count<20):\n",
    "        print(i,end=\" \")\n",
    "        count+=1\n",
    "print(\"\\n\",\" #\"*20)\n",
    "print(\"count = \",count)"
   ]
  },
  {
   "cell_type": "code",
   "execution_count": null,
   "id": "48d54247",
   "metadata": {},
   "outputs": [],
   "source": []
  }
 ],
 "metadata": {
  "kernelspec": {
   "display_name": "Python 3 (ipykernel)",
   "language": "python",
   "name": "python3"
  },
  "language_info": {
   "codemirror_mode": {
    "name": "ipython",
    "version": 3
   },
   "file_extension": ".py",
   "mimetype": "text/x-python",
   "name": "python",
   "nbconvert_exporter": "python",
   "pygments_lexer": "ipython3",
   "version": "3.9.12"
  }
 },
 "nbformat": 4,
 "nbformat_minor": 5
}
